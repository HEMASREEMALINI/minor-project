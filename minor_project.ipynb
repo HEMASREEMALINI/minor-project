{
  "nbformat": 4,
  "nbformat_minor": 0,
  "metadata": {
    "colab": {
      "name": "minor project.ipynb",
      "provenance": [],
      "collapsed_sections": [],
      "mount_file_id": "1YeA0-ErPTBv734dSAon4Iropyn0_aJdc",
      "authorship_tag": "ABX9TyPs8EV76sTz7DMkWLZuDZdA",
      "include_colab_link": true
    },
    "kernelspec": {
      "name": "python3",
      "display_name": "Python 3"
    },
    "language_info": {
      "name": "python"
    }
  },
  "cells": [
    {
      "cell_type": "markdown",
      "metadata": {
        "id": "view-in-github",
        "colab_type": "text"
      },
      "source": [
        "<a href=\"https://colab.research.google.com/github/HEMASREEMALINI/minor-project/blob/main/minor_project.ipynb\" target=\"_parent\"><img src=\"https://colab.research.google.com/assets/colab-badge.svg\" alt=\"Open In Colab\"/></a>"
      ]
    },
    {
      "cell_type": "code",
      "metadata": {
        "colab": {
          "base_uri": "https://localhost:8080/"
        },
        "id": "ZiCmOcwgYwY1",
        "outputId": "38e023b2-e1c9-4db5-fc81-4c0494bbae8b"
      },
      "source": [
        "!pip install ipython-autotime\n",
        "%load_ext autotime"
      ],
      "execution_count": 1,
      "outputs": [
        {
          "output_type": "stream",
          "text": [
            "Collecting ipython-autotime\n",
            "  Downloading https://files.pythonhosted.org/packages/b4/c9/b413a24f759641bc27ef98c144b590023c8038dfb8a3f09e713e9dff12c1/ipython_autotime-0.3.1-py2.py3-none-any.whl\n",
            "Requirement already satisfied: ipython in /usr/local/lib/python3.7/dist-packages (from ipython-autotime) (5.5.0)\n",
            "Requirement already satisfied: traitlets>=4.2 in /usr/local/lib/python3.7/dist-packages (from ipython->ipython-autotime) (5.0.5)\n",
            "Requirement already satisfied: pickleshare in /usr/local/lib/python3.7/dist-packages (from ipython->ipython-autotime) (0.7.5)\n",
            "Requirement already satisfied: pexpect; sys_platform != \"win32\" in /usr/local/lib/python3.7/dist-packages (from ipython->ipython-autotime) (4.8.0)\n",
            "Requirement already satisfied: prompt-toolkit<2.0.0,>=1.0.4 in /usr/local/lib/python3.7/dist-packages (from ipython->ipython-autotime) (1.0.18)\n",
            "Requirement already satisfied: simplegeneric>0.8 in /usr/local/lib/python3.7/dist-packages (from ipython->ipython-autotime) (0.8.1)\n",
            "Requirement already satisfied: pygments in /usr/local/lib/python3.7/dist-packages (from ipython->ipython-autotime) (2.6.1)\n",
            "Requirement already satisfied: decorator in /usr/local/lib/python3.7/dist-packages (from ipython->ipython-autotime) (4.4.2)\n",
            "Requirement already satisfied: setuptools>=18.5 in /usr/local/lib/python3.7/dist-packages (from ipython->ipython-autotime) (56.1.0)\n",
            "Requirement already satisfied: ipython-genutils in /usr/local/lib/python3.7/dist-packages (from traitlets>=4.2->ipython->ipython-autotime) (0.2.0)\n",
            "Requirement already satisfied: ptyprocess>=0.5 in /usr/local/lib/python3.7/dist-packages (from pexpect; sys_platform != \"win32\"->ipython->ipython-autotime) (0.7.0)\n",
            "Requirement already satisfied: wcwidth in /usr/local/lib/python3.7/dist-packages (from prompt-toolkit<2.0.0,>=1.0.4->ipython->ipython-autotime) (0.2.5)\n",
            "Requirement already satisfied: six>=1.9.0 in /usr/local/lib/python3.7/dist-packages (from prompt-toolkit<2.0.0,>=1.0.4->ipython->ipython-autotime) (1.15.0)\n",
            "Installing collected packages: ipython-autotime\n",
            "Successfully installed ipython-autotime-0.3.1\n",
            "time: 5.76 ms (started: 2021-05-21 06:43:54 +00:00)\n"
          ],
          "name": "stdout"
        }
      ]
    },
    {
      "cell_type": "code",
      "metadata": {
        "colab": {
          "base_uri": "https://localhost:8080/"
        },
        "id": "_u-pIU3mWWjC",
        "outputId": "377da4cf-3ac9-4bc9-a7d6-fe290873a983"
      },
      "source": [
        "!pip install bing-image-downloader"
      ],
      "execution_count": 2,
      "outputs": [
        {
          "output_type": "stream",
          "text": [
            "Collecting bing-image-downloader\n",
            "  Downloading https://files.pythonhosted.org/packages/0d/bf/537a61030b84ae4cd5022d5c7b014fd9bc3ce7c02358919153a6658a61d3/bing_image_downloader-1.0.4-py3-none-any.whl\n",
            "Installing collected packages: bing-image-downloader\n",
            "Successfully installed bing-image-downloader-1.0.4\n",
            "time: 3.43 s (started: 2021-05-21 06:43:55 +00:00)\n"
          ],
          "name": "stdout"
        }
      ]
    },
    {
      "cell_type": "code",
      "metadata": {
        "colab": {
          "base_uri": "https://localhost:8080/"
        },
        "id": "d22m29-pWhLs",
        "outputId": "7c79acfe-c415-434d-9744-943407f9d916"
      },
      "source": [
        "!mkdir images"
      ],
      "execution_count": 3,
      "outputs": [
        {
          "output_type": "stream",
          "text": [
            "time: 115 ms (started: 2021-05-21 06:43:58 +00:00)\n"
          ],
          "name": "stdout"
        }
      ]
    },
    {
      "cell_type": "code",
      "metadata": {
        "colab": {
          "base_uri": "https://localhost:8080/"
        },
        "id": "n7OnWwp2X7Qx",
        "outputId": "b4dc8a9b-da68-401c-ee2b-303f332dab27"
      },
      "source": [
        "from bing_image_downloader import downloader\n",
        "downloader.download(\"Dolphins\",limit=30,output_dir='images',\n",
        "                    adult_filter_off=True)"
      ],
      "execution_count": 4,
      "outputs": [
        {
          "output_type": "stream",
          "text": [
            "\n",
            "\n",
            "[!!]Indexing page: 1\n",
            "\n",
            "[%] Indexed 11 Images on Page 1.\n",
            "\n",
            "===============================================\n",
            "\n",
            "[%] Downloading Image #1 from http://www.photografrica.com/wp-content/uploads/2013/09/beginning_of_birth_photografrica_1.jpg\n",
            "[%] File Downloaded !\n",
            "\n",
            "[%] Downloading Image #2 from https://www.top13.net/wp-content/uploads/2015/01/surrealist-collage-luke-robson3-699x1024.jpg\n",
            "[%] File Downloaded !\n",
            "\n",
            "[%] Downloading Image #3 from https://www.weloveallanimals.com/wp-content/uploads/2017/03/arctic-foxes-15.jpg\n",
            "[%] File Downloaded !\n",
            "\n",
            "[%] Downloading Image #4 from http://www1.pictures.zimbio.com/bg/The+Depp+family+in+Miami+vO4vAeJwyi5x.jpg\n",
            "[%] File Downloaded !\n",
            "\n",
            "[%] Downloading Image #5 from https://coloringpage.eu/wp-content/uploads/2016/08/classroom-rules.jpg\n",
            "[Error]Invalid image, not saving https://coloringpage.eu/wp-content/uploads/2016/08/classroom-rules.jpg\n",
            "\n",
            "[!] Issue getting: https://coloringpage.eu/wp-content/uploads/2016/08/classroom-rules.jpg\n",
            "[!] Error:: No active exception to reraise\n",
            "[%] Downloading Image #5 from https://www.wallpapers13.com/wp-content/uploads/2016/02/Hd-wallpaper-underwater-swim-ocean-coral-fish-1024x768.jpg\n",
            "[%] File Downloaded !\n",
            "\n",
            "[%] Downloading Image #6 from https://fastly.syfy.com/sites/syfy/files/styles/1200x680/public/2017/07/mad-max-fury-road.jpg?offset-x=0&amp;offset-y=0\n",
            "[%] File Downloaded !\n",
            "\n",
            "[%] Downloading Image #7 from https://www.nine5four.com/mag/media/k2/items/cache/8b072d4f47fa16702f8c7356d2c88ee8_M.jpg\n",
            "[%] File Downloaded !\n",
            "\n",
            "[%] Downloading Image #8 from https://bestanimations.com/Animals/Mammals/Bulls&amp;Cows/funny-cow-animation-9.gif\n",
            "[!] Issue getting: https://bestanimations.com/Animals/Mammals/Bulls&amp;Cows/funny-cow-animation-9.gif\n",
            "[!] Error:: HTTP Error 400: Bad Request\n",
            "[%] Downloading Image #8 from https://www.bing.com/th/id/OGC.e87aa9555533637941d7ca80c2cfcecc?pid=1.7&amp;rurl=https%3a%2f%2fbestanimations.com%2fAnimals%2fMammals%2fBulls%26Cows%2ffunny-cow-animation-9.gif&amp;ehk=jsBX%2f97YcydhKTi50lFIFtRiQGIWI3JpaBig0aZFU9o%3d\n",
            "[!] Issue getting: https://www.bing.com/th/id/OGC.e87aa9555533637941d7ca80c2cfcecc?pid=1.7&amp;rurl=https%3a%2f%2fbestanimations.com%2fAnimals%2fMammals%2fBulls%26Cows%2ffunny-cow-animation-9.gif&amp;ehk=jsBX%2f97YcydhKTi50lFIFtRiQGIWI3JpaBig0aZFU9o%3d\n",
            "[!] Error:: HTTP Error 404: Not Found\n",
            "[%] Downloading Image #8 from http://www.newopticalillusions.com/wp-content/uploads/2017/06/Another-Hidden-Tiger-Illusion-368x520.jpg\n",
            "[%] File Downloaded !\n",
            "\n",
            "\n",
            "\n",
            "[!!]Indexing page: 2\n",
            "\n",
            "[%] Indexed 11 Images on Page 2.\n",
            "\n",
            "===============================================\n",
            "\n",
            "[%] Downloading Image #9 from http://www.photografrica.com/wp-content/uploads/2013/09/beginning_of_birth_photografrica_1.jpg\n",
            "[%] File Downloaded !\n",
            "\n",
            "[%] Downloading Image #10 from https://www.top13.net/wp-content/uploads/2015/01/surrealist-collage-luke-robson3-699x1024.jpg\n",
            "[%] File Downloaded !\n",
            "\n",
            "[%] Downloading Image #11 from https://www.weloveallanimals.com/wp-content/uploads/2017/03/arctic-foxes-15.jpg\n",
            "[%] File Downloaded !\n",
            "\n",
            "[%] Downloading Image #12 from http://www1.pictures.zimbio.com/bg/The+Depp+family+in+Miami+vO4vAeJwyi5x.jpg\n",
            "[%] File Downloaded !\n",
            "\n",
            "[%] Downloading Image #13 from https://coloringpage.eu/wp-content/uploads/2016/08/classroom-rules.jpg\n",
            "[Error]Invalid image, not saving https://coloringpage.eu/wp-content/uploads/2016/08/classroom-rules.jpg\n",
            "\n",
            "[!] Issue getting: https://coloringpage.eu/wp-content/uploads/2016/08/classroom-rules.jpg\n",
            "[!] Error:: No active exception to reraise\n",
            "[%] Downloading Image #13 from https://www.wallpapers13.com/wp-content/uploads/2016/02/Hd-wallpaper-underwater-swim-ocean-coral-fish-1024x768.jpg\n",
            "[%] File Downloaded !\n",
            "\n",
            "[%] Downloading Image #14 from https://fastly.syfy.com/sites/syfy/files/styles/1200x680/public/2017/07/mad-max-fury-road.jpg?offset-x=0&amp;offset-y=0\n",
            "[%] File Downloaded !\n",
            "\n",
            "[%] Downloading Image #15 from https://www.nine5four.com/mag/media/k2/items/cache/8b072d4f47fa16702f8c7356d2c88ee8_M.jpg\n",
            "[%] File Downloaded !\n",
            "\n",
            "[%] Downloading Image #16 from https://bestanimations.com/Animals/Mammals/Bulls&amp;Cows/funny-cow-animation-9.gif\n",
            "[!] Issue getting: https://bestanimations.com/Animals/Mammals/Bulls&amp;Cows/funny-cow-animation-9.gif\n",
            "[!] Error:: HTTP Error 400: Bad Request\n",
            "[%] Downloading Image #16 from https://www.bing.com/th/id/OGC.e87aa9555533637941d7ca80c2cfcecc?pid=1.7&amp;rurl=https%3a%2f%2fbestanimations.com%2fAnimals%2fMammals%2fBulls%26Cows%2ffunny-cow-animation-9.gif&amp;ehk=jsBX%2f97YcydhKTi50lFIFtRiQGIWI3JpaBig0aZFU9o%3d\n",
            "[!] Issue getting: https://www.bing.com/th/id/OGC.e87aa9555533637941d7ca80c2cfcecc?pid=1.7&amp;rurl=https%3a%2f%2fbestanimations.com%2fAnimals%2fMammals%2fBulls%26Cows%2ffunny-cow-animation-9.gif&amp;ehk=jsBX%2f97YcydhKTi50lFIFtRiQGIWI3JpaBig0aZFU9o%3d\n",
            "[!] Error:: HTTP Error 404: Not Found\n",
            "[%] Downloading Image #16 from http://www.newopticalillusions.com/wp-content/uploads/2017/06/Another-Hidden-Tiger-Illusion-368x520.jpg\n",
            "[%] File Downloaded !\n",
            "\n",
            "\n",
            "\n",
            "[!!]Indexing page: 3\n",
            "\n",
            "[%] Indexed 9 Images on Page 3.\n",
            "\n",
            "===============================================\n",
            "\n",
            "[%] Downloading Image #17 from http://safaricharters.com/wp-content/uploads/pDolphin_Above_Water-480x640.jpg\n",
            "[%] File Downloaded !\n",
            "\n",
            "[%] Downloading Image #18 from https://www.themeparkreview.com/parks/pimages/Six_Flags_Over_Georgia/Marks_Postcard_Paradise_-_1970s_Souvenir_Book/sfog_souvenir_book_3_388x600.jpg\n",
            "[%] File Downloaded !\n",
            "\n",
            "[%] Downloading Image #19 from https://wallsdesk.com/wp-content/uploads/2017/01/Red-Wolf-Wallpapers.jpg\n",
            "[%] File Downloaded !\n",
            "\n",
            "[%] Downloading Image #20 from http://peewee.com/wp-content/uploads/interior-design-ideas-3d-ocean-epoxy-polimer-floors-2-e1430585285764.jpg\n",
            "[%] File Downloaded !\n",
            "\n",
            "[%] Downloading Image #21 from https://eia-international.org/wp-content/uploads/2005_08_china_tibet_lhasa_tiger_skin_011.jpg\n",
            "[%] File Downloaded !\n",
            "\n",
            "[%] Downloading Image #22 from http://thecraftingchicks.com/wp-content/uploads/2015/06/ocean-themed-activities.jpg\n",
            "[%] File Downloaded !\n",
            "\n",
            "[%] Downloading Image #23 from https://www.sbs.com.au/guide/sites/sbs.com.au.guide/files/styles/full/public/planet_earth.jpg?itok=3Rc1M-QR\n",
            "[%] File Downloaded !\n",
            "\n",
            "[%] Downloading Image #24 from http://www.thedreamerswoods.com/images/lg_bobcatfour.jpg\n",
            "[%] File Downloaded !\n",
            "\n",
            "[%] Downloading Image #25 from https://cdn.nfocusnashville.com/files/base/scomm/nfn/image/2016/11/640w/Alys_Beach_Pedestrian__opt.583dfcdb743ec.jpg\n",
            "[!] Issue getting: https://cdn.nfocusnashville.com/files/base/scomm/nfn/image/2016/11/640w/Alys_Beach_Pedestrian__opt.583dfcdb743ec.jpg\n",
            "[!] Error:: <urlopen error [Errno -2] Name or service not known>\n",
            "\n",
            "\n",
            "[!!]Indexing page: 4\n",
            "\n",
            "[%] Indexed 8 Images on Page 4.\n",
            "\n",
            "===============================================\n",
            "\n",
            "[%] Downloading Image #25 from https://wallsdesk.com/wp-content/uploads/2017/01/Red-Wolf-Wallpapers.jpg\n",
            "[%] File Downloaded !\n",
            "\n",
            "[%] Downloading Image #26 from https://eia-international.org/wp-content/uploads/2005_08_china_tibet_lhasa_tiger_skin_011.jpg\n",
            "[%] File Downloaded !\n",
            "\n",
            "[%] Downloading Image #27 from http://thecraftingchicks.com/wp-content/uploads/2015/06/ocean-themed-activities.jpg\n",
            "[%] File Downloaded !\n",
            "\n",
            "[%] Downloading Image #28 from https://www.sbs.com.au/guide/sites/sbs.com.au.guide/files/styles/full/public/planet_earth.jpg?itok=3Rc1M-QR\n",
            "[%] File Downloaded !\n",
            "\n",
            "[%] Downloading Image #29 from https://www.themeparkreview.com/parks/pimages/Six_Flags_Over_Georgia/Marks_Postcard_Paradise_-_1970s_Souvenir_Book/sfog_souvenir_book_3_388x600.jpg\n",
            "[%] File Downloaded !\n",
            "\n",
            "[%] Downloading Image #30 from https://cdn.nfocusnashville.com/files/base/scomm/nfn/image/2016/11/640w/Alys_Beach_Pedestrian__opt.583dfcdb743ec.jpg\n",
            "[!] Issue getting: https://cdn.nfocusnashville.com/files/base/scomm/nfn/image/2016/11/640w/Alys_Beach_Pedestrian__opt.583dfcdb743ec.jpg\n",
            "[!] Error:: <urlopen error [Errno -2] Name or service not known>\n",
            "[%] Downloading Image #30 from http://peewee.com/wp-content/uploads/interior-design-ideas-3d-ocean-epoxy-polimer-floors-2-e1430585285764.jpg\n",
            "[%] File Downloaded !\n",
            "\n",
            "\n",
            "\n",
            "[%] Done. Downloaded 30 images.\n",
            "\n",
            "===============================================\n",
            "\n",
            "time: 15.8 s (started: 2021-05-21 06:43:58 +00:00)\n"
          ],
          "name": "stdout"
        }
      ]
    },
    {
      "cell_type": "code",
      "metadata": {
        "colab": {
          "base_uri": "https://localhost:8080/"
        },
        "id": "drbfTR-6YX22",
        "outputId": "36bb25ea-2503-4fa7-b8ff-ddfc017b51c1"
      },
      "source": [
        "from bing_image_downloader import downloader\n",
        "downloader.download(\"Macaws\",limit=30,output_dir='images',\n",
        "                    adult_filter_off=True)"
      ],
      "execution_count": 5,
      "outputs": [
        {
          "output_type": "stream",
          "text": [
            "\n",
            "\n",
            "[!!]Indexing page: 1\n",
            "\n",
            "[%] Indexed 10 Images on Page 1.\n",
            "\n",
            "===============================================\n",
            "\n",
            "[%] Downloading Image #1 from https://www.petguide.com/wp-content/uploads/2018/06/golden-collared-macaw-2.jpg\n",
            "[%] File Downloaded !\n",
            "\n",
            "[%] Downloading Image #2 from https://www.parrots.org/images/encyclopedia/1335/crimson-bellied_parakeet__full.jpg\n",
            "[%] File Downloaded !\n",
            "\n",
            "[%] Downloading Image #3 from https://www.omlet.co.uk/images/cache/377/768/Parrot-Scarlet_Macaw-A_Scarlet_Macaw's_incredibly_colourful_tail_feathers.jpg\n",
            "[%] File Downloaded !\n",
            "\n",
            "[%] Downloading Image #4 from https://vignette.wikia.nocookie.net/greenhell/images/2/29/Bamboo_spear.jpg/revision/latest/scale-to-width-down/2000?cb=20180905063933\n",
            "[%] File Downloaded !\n",
            "\n",
            "[%] Downloading Image #5 from https://cdn.allwallpaper.in/wallpapers/320x480/1872/scarlet-macaws-birds-flying-parrots-320x480-wallpaper.jpg\n",
            "[%] File Downloaded !\n",
            "\n",
            "[%] Downloading Image #6 from https://www.foundalis.com/bio/zoo/macao.jpg\n",
            "[%] File Downloaded !\n",
            "\n",
            "[%] Downloading Image #7 from http://thyroidnosurgery.com/wp-content/uploads/2019/02/white-parrot-cockatoo-1.jpg\n",
            "[%] File Downloaded !\n",
            "\n",
            "[%] Downloading Image #8 from https://cdn.propertiesincostarica.com/properties/Images/luxury-and-modern-ocean-view-estate/opt/IMG_8889_HDR.jpg\n",
            "[%] File Downloaded !\n",
            "\n",
            "[%] Downloading Image #9 from https://blog.justsingles.com/wp-content/uploads/2016/09/seahorses.jpg\n",
            "[%] File Downloaded !\n",
            "\n",
            "[%] Downloading Image #10 from http://www.wallpapers13.com/wp-content/uploads/2016/02/Colorful-birds-Parrots-Hd-Wallpaper-1280x960.jpg\n",
            "[%] File Downloaded !\n",
            "\n",
            "\n",
            "\n",
            "[!!]Indexing page: 2\n",
            "\n",
            "[%] Indexed 9 Images on Page 2.\n",
            "\n",
            "===============================================\n",
            "\n",
            "[%] Downloading Image #11 from http://www.wallpapers13.com/wp-content/uploads/2016/02/Download-Wallpapers-Scarlet-Macaws-widescreen-3840x2400-1920x1440.jpg\n",
            "[%] File Downloaded !\n",
            "\n",
            "[%] Downloading Image #12 from https://www.wallpapers13.com/wp-content/uploads/2019/06/Colorful-Birds-Macaws-long-tailed-Parrots-widespread-wings-in-flight-birds-Wallpaper-for-Desktop-1280x768.jpg\n",
            "[%] File Downloaded !\n",
            "\n",
            "[%] Downloading Image #13 from https://www.petguide.com/wp-content/uploads/2018/06/red-fronted-macaw-2.jpg\n",
            "[%] File Downloaded !\n",
            "\n",
            "[%] Downloading Image #14 from https://www.parrots.org/images/encyclopedia/1086/wpt2726__full.jpg\n",
            "[%] File Downloaded !\n",
            "\n",
            "[%] Downloading Image #15 from http://livingjunglepetshop.com.au/wp-content/uploads/2014/11/Blue-and-Yellow-Macaw8.jpg\n",
            "[%] File Downloaded !\n",
            "\n",
            "[%] Downloading Image #16 from http://content.breederoo.com/users/Jade/images/content/8-week-old-hahns-macaws.JPG\n",
            "[%] File Downloaded !\n",
            "\n",
            "[%] Downloading Image #17 from https://thumbs.dreamstime.com/z/big-parrot-exotic-bird-colourful-bamboo-stem-green-background-34057071.jpg\n",
            "[%] File Downloaded !\n",
            "\n",
            "[%] Downloading Image #18 from https://cdn.mybeautifulbelize.com/wp-content/uploads/2014/08/10590547_268156350041099_1195634504109723161_n.jpg\n",
            "[%] File Downloaded !\n",
            "\n",
            "[%] Downloading Image #19 from http://ww1.prweb.com/prfiles/2007/08/01/155397/BighornSheep2.jpg\n",
            "[%] File Downloaded !\n",
            "\n",
            "\n",
            "\n",
            "[!!]Indexing page: 3\n",
            "\n",
            "[%] Indexed 9 Images on Page 3.\n",
            "\n",
            "===============================================\n",
            "\n",
            "[%] Downloading Image #20 from http://www.rainforest-alliance.org/sites/default/files/styles/400w/public/2016-09/pair-of-scarlet-macaws.jpg?itok=5sz7VSG0\n",
            "[%] File Downloaded !\n",
            "\n",
            "[%] Downloading Image #21 from http://wallpapersdsc.net/wp-content/uploads/2017/05/Blue-and-yellow-Macaw-HD-pics.jpg\n",
            "[%] File Downloaded !\n",
            "\n",
            "[%] Downloading Image #22 from http://www.wallpapers13.com/wp-content/uploads/2016/02/Small-colorful-parrots-wallpapers-hd.jpg\n",
            "[%] File Downloaded !\n",
            "\n",
            "[%] Downloading Image #23 from http://www.hdwallpapers.in/download/best_friends_macaws-1366x768.jpg\n",
            "[%] File Downloaded !\n",
            "\n",
            "[%] Downloading Image #24 from https://thumbs.dreamstime.com/z/black-macaw-22625536.jpg\n",
            "[%] File Downloaded !\n",
            "\n",
            "[%] Downloading Image #25 from https://i.ytimg.com/vi/3mHnKXEZ4D0/hqdefault.jpg\n",
            "[%] File Downloaded !\n",
            "\n",
            "[%] Downloading Image #26 from https://www.readersdigest.ca/wp-content/uploads/2019/01/shutterstock_657708193-760x506.jpg\n",
            "[%] File Downloaded !\n",
            "\n",
            "[%] Downloading Image #27 from https://theecologist.org/sites/default/files/styles/facebook/public/NG_media/178007.jpg?itok=2leD5QOY\n",
            "[%] File Downloaded !\n",
            "\n",
            "[%] Downloading Image #28 from https://cdn.tourradar.com/s3/serp/original/877_l4sbs6Fd.jpg\n",
            "[%] File Downloaded !\n",
            "\n",
            "\n",
            "\n",
            "[!!]Indexing page: 4\n",
            "\n",
            "[%] Indexed 17 Images on Page 4.\n",
            "\n",
            "===============================================\n",
            "\n",
            "[%] Downloading Image #29 from https://d.ibtimes.co.uk/en/full/1527516/spixs-macaw.jpg\n",
            "[%] File Downloaded !\n",
            "\n",
            "[%] Downloading Image #30 from https://www.inspiks.com/iMail/Macaws_4.jpg\n",
            "[Error]Invalid image, not saving https://www.inspiks.com/iMail/Macaws_4.jpg\n",
            "\n",
            "[!] Issue getting: https://www.inspiks.com/iMail/Macaws_4.jpg\n",
            "[!] Error:: No active exception to reraise\n",
            "[%] Downloading Image #30 from https://i.ytimg.com/vi/akngLtMHw6Y/maxresdefault.jpg\n",
            "[%] File Downloaded !\n",
            "\n",
            "\n",
            "\n",
            "[%] Done. Downloaded 30 images.\n",
            "\n",
            "===============================================\n",
            "\n",
            "time: 24.7 s (started: 2021-05-21 06:44:14 +00:00)\n"
          ],
          "name": "stdout"
        }
      ]
    },
    {
      "cell_type": "code",
      "metadata": {
        "colab": {
          "base_uri": "https://localhost:8080/"
        },
        "id": "dghXQ6M_aVM7",
        "outputId": "c4c86071-95b3-4f5f-be76-338ebbf1a3f9"
      },
      "source": [
        "import numpy as np\n",
        "a=np.array([[1,2,3,4,5],[4,56,7,8,9]])\n",
        "a.ndim"
      ],
      "execution_count": 6,
      "outputs": [
        {
          "output_type": "execute_result",
          "data": {
            "text/plain": [
              "2"
            ]
          },
          "metadata": {
            "tags": []
          },
          "execution_count": 6
        },
        {
          "output_type": "stream",
          "text": [
            "time: 8.19 ms (started: 2021-05-21 06:44:39 +00:00)\n"
          ],
          "name": "stdout"
        }
      ]
    },
    {
      "cell_type": "code",
      "metadata": {
        "colab": {
          "base_uri": "https://localhost:8080/"
        },
        "id": "LEZwAzVra2zJ",
        "outputId": "738a1752-9e5a-4c8e-eac1-125a2611505f"
      },
      "source": [
        "a.flatten()"
      ],
      "execution_count": 7,
      "outputs": [
        {
          "output_type": "execute_result",
          "data": {
            "text/plain": [
              "array([ 1,  2,  3,  4,  5,  4, 56,  7,  8,  9])"
            ]
          },
          "metadata": {
            "tags": []
          },
          "execution_count": 7
        },
        {
          "output_type": "stream",
          "text": [
            "time: 12.3 ms (started: 2021-05-21 06:44:39 +00:00)\n"
          ],
          "name": "stdout"
        }
      ]
    },
    {
      "cell_type": "code",
      "metadata": {
        "colab": {
          "base_uri": "https://localhost:8080/"
        },
        "id": "bU3JC1KRYnQh",
        "outputId": "da10d99e-0eb4-40fd-fe05-1963357609e2"
      },
      "source": [
        "#preprocessing the data\n",
        "import os\n",
        "import matplotlib.pyplot as plt\n",
        "import numpy as np\n",
        "from skimage.io import imread\n",
        "from skimage.transform import resize\n",
        "\n",
        "target=[]\n",
        "images=[]\n",
        "flat_data=[]\n",
        "\n",
        "DATADIR='/content/images'\n",
        "CATEGORIES=['Dolphins','Macaws']\n",
        "\n",
        "for category in CATEGORIES:\n",
        "  class_num=CATEGORIES.index(category)\n",
        "  path=os.path.join(DATADIR,category)\n",
        "  #print(path)\n",
        "  for img in os.listdir(path):\n",
        "    img_array=imread(os.path.join(path,img))\n",
        "    #plt.imshow(img_array)\n",
        "    img_resized=resize(img_array,(150,150,3))\n",
        "    flat_data.append(img_resized.flatten())\n",
        "    images.append(img_resized)\n",
        "    target.append(class_num)\n",
        "\n",
        "flat_data=np.array(flat_data)\n",
        "target=np.array(target)\n",
        "images=np.array(images)"
      ],
      "execution_count": 8,
      "outputs": [
        {
          "output_type": "stream",
          "text": [
            "time: 20.4 s (started: 2021-05-21 06:44:39 +00:00)\n"
          ],
          "name": "stdout"
        }
      ]
    },
    {
      "cell_type": "code",
      "metadata": {
        "colab": {
          "base_uri": "https://localhost:8080/"
        },
        "id": "9BEbg8g9Zy6I",
        "outputId": "16126ae5-14fa-4291-9db1-04796911cd06"
      },
      "source": [
        "len(flat_data[0])"
      ],
      "execution_count": 9,
      "outputs": [
        {
          "output_type": "execute_result",
          "data": {
            "text/plain": [
              "67500"
            ]
          },
          "metadata": {
            "tags": []
          },
          "execution_count": 9
        },
        {
          "output_type": "stream",
          "text": [
            "time: 4.81 ms (started: 2021-05-21 06:44:59 +00:00)\n"
          ],
          "name": "stdout"
        }
      ]
    },
    {
      "cell_type": "code",
      "metadata": {
        "colab": {
          "base_uri": "https://localhost:8080/"
        },
        "id": "crva12QMf6a_",
        "outputId": "dcf2f174-ede2-47d7-db32-fde06f0bdf4c"
      },
      "source": [
        "150*150*3"
      ],
      "execution_count": 10,
      "outputs": [
        {
          "output_type": "execute_result",
          "data": {
            "text/plain": [
              "67500"
            ]
          },
          "metadata": {
            "tags": []
          },
          "execution_count": 10
        },
        {
          "output_type": "stream",
          "text": [
            "time: 5.26 ms (started: 2021-05-21 06:44:59 +00:00)\n"
          ],
          "name": "stdout"
        }
      ]
    },
    {
      "cell_type": "code",
      "metadata": {
        "colab": {
          "base_uri": "https://localhost:8080/"
        },
        "id": "9mrQXkA2gOq_",
        "outputId": "606a562a-b8d4-4280-d9ad-b3d05fb60c66"
      },
      "source": [
        "target"
      ],
      "execution_count": 11,
      "outputs": [
        {
          "output_type": "execute_result",
          "data": {
            "text/plain": [
              "array([0, 0, 0, 0, 0, 0, 0, 0, 0, 0, 0, 0, 0, 0, 0, 0, 0, 0, 0, 0, 0, 0,\n",
              "       0, 0, 0, 0, 0, 0, 0, 0, 1, 1, 1, 1, 1, 1, 1, 1, 1, 1, 1, 1, 1, 1,\n",
              "       1, 1, 1, 1, 1, 1, 1, 1, 1, 1, 1, 1, 1, 1, 1, 1])"
            ]
          },
          "metadata": {
            "tags": []
          },
          "execution_count": 11
        },
        {
          "output_type": "stream",
          "text": [
            "time: 7.07 ms (started: 2021-05-21 06:44:59 +00:00)\n"
          ],
          "name": "stdout"
        }
      ]
    },
    {
      "cell_type": "code",
      "metadata": {
        "colab": {
          "base_uri": "https://localhost:8080/",
          "height": 301
        },
        "id": "oUdt7PxBgRSr",
        "outputId": "4eba437a-e686-4d78-d024-9f46c4c89941"
      },
      "source": [
        "unique,count=np.unique(target,return_counts=True)\n",
        "plt.bar(CATEGORIES,count)"
      ],
      "execution_count": 12,
      "outputs": [
        {
          "output_type": "execute_result",
          "data": {
            "text/plain": [
              "<BarContainer object of 2 artists>"
            ]
          },
          "metadata": {
            "tags": []
          },
          "execution_count": 12
        },
        {
          "output_type": "display_data",
          "data": {
            "image/png": "[encoded data removed]",
            "text/plain": [
              "<Figure size 432x288 with 1 Axes>"
            ]
          },
          "metadata": {
            "tags": [],
            "needs_background": "light"
          }
        },
        {
          "output_type": "stream",
          "text": [
            "time: 191 ms (started: 2021-05-21 06:44:59 +00:00)\n"
          ],
          "name": "stdout"
        }
      ]
    },
    {
      "cell_type": "code",
      "metadata": {
        "colab": {
          "base_uri": "https://localhost:8080/"
        },
        "id": "PUalgT61msAm",
        "outputId": "480fb862-09c3-47bd-ef16-b8ecf66c349f"
      },
      "source": [
        "flat_data"
      ],
      "execution_count": 13,
      "outputs": [
        {
          "output_type": "execute_result",
          "data": {
            "text/plain": [
              "array([[7.99071895e-01, 7.84812636e-01, 7.53440087e-01, ...,\n",
              "        6.03921569e-01, 6.62745098e-01, 8.31372549e-01],\n",
              "       [9.88235294e-01, 9.96078431e-01, 9.96078431e-01, ...,\n",
              "        9.98039216e-01, 9.98039216e-01, 9.98039216e-01],\n",
              "       [0.00000000e+00, 0.00000000e+00, 0.00000000e+00, ...,\n",
              "        1.64379085e-01, 7.48692810e-01, 8.62136209e-01],\n",
              "       ...,\n",
              "       [6.19607843e-01, 8.62745098e-01, 8.90196078e-01, ...,\n",
              "        6.19607843e-01, 8.62745098e-01, 8.90196078e-01],\n",
              "       [5.88235294e-02, 2.31372549e-01, 4.70588235e-01, ...,\n",
              "        7.44168627e-01, 6.69947712e-01, 5.33622222e-01],\n",
              "       [9.33725490e-02, 2.32549020e-01, 3.92156863e-04, ...,\n",
              "        1.46928105e-01, 1.94209150e-01, 0.00000000e+00]])"
            ]
          },
          "metadata": {
            "tags": []
          },
          "execution_count": 13
        },
        {
          "output_type": "stream",
          "text": [
            "time: 6.14 ms (started: 2021-05-21 06:44:59 +00:00)\n"
          ],
          "name": "stdout"
        }
      ]
    },
    {
      "cell_type": "code",
      "metadata": {
        "colab": {
          "base_uri": "https://localhost:8080/"
        },
        "id": "Vm-kiG0UmzEA",
        "outputId": "f0c4bed9-de50-45e3-caf9-87df4f28bf25"
      },
      "source": [
        "target"
      ],
      "execution_count": 14,
      "outputs": [
        {
          "output_type": "execute_result",
          "data": {
            "text/plain": [
              "array([0, 0, 0, 0, 0, 0, 0, 0, 0, 0, 0, 0, 0, 0, 0, 0, 0, 0, 0, 0, 0, 0,\n",
              "       0, 0, 0, 0, 0, 0, 0, 0, 1, 1, 1, 1, 1, 1, 1, 1, 1, 1, 1, 1, 1, 1,\n",
              "       1, 1, 1, 1, 1, 1, 1, 1, 1, 1, 1, 1, 1, 1, 1, 1])"
            ]
          },
          "metadata": {
            "tags": []
          },
          "execution_count": 14
        },
        {
          "output_type": "stream",
          "text": [
            "time: 6.08 ms (started: 2021-05-21 06:44:59 +00:00)\n"
          ],
          "name": "stdout"
        }
      ]
    },
    {
      "cell_type": "code",
      "metadata": {
        "colab": {
          "base_uri": "https://localhost:8080/"
        },
        "id": "8Q6ZpVIlgZWk",
        "outputId": "bc1cd0d5-ab5f-497e-a164-699e0fb4907a"
      },
      "source": [
        "#splitting the data into training and testing data\n",
        "from sklearn.model_selection import train_test_split\n",
        "x_train,x_test,y_train,y_test=train_test_split(flat_data,target,test_size=0.3,random_state=109)\n"
      ],
      "execution_count": 15,
      "outputs": [
        {
          "output_type": "stream",
          "text": [
            "time: 283 ms (started: 2021-05-21 06:44:59 +00:00)\n"
          ],
          "name": "stdout"
        }
      ]
    },
    {
      "cell_type": "code",
      "metadata": {
        "colab": {
          "base_uri": "https://localhost:8080/"
        },
        "id": "wWHPP_jw9Giw",
        "outputId": "8c6679ef-5654-4300-8e72-1b9208178bc6"
      },
      "source": [
        "#normalization\n",
        "from sklearn.preprocessing import MinMaxScaler\n",
        "scaler= MinMaxScaler()\n",
        "x_train=scaler.fit_transform(x_train)\n",
        "x_test=scaler.transform(x_test)"
      ],
      "execution_count": 16,
      "outputs": [
        {
          "output_type": "stream",
          "text": [
            "time: 44.3 ms (started: 2021-05-21 06:45:00 +00:00)\n"
          ],
          "name": "stdout"
        }
      ]
    },
    {
      "cell_type": "code",
      "metadata": {
        "colab": {
          "base_uri": "https://localhost:8080/"
        },
        "id": "fhztgsOg9ReC",
        "outputId": "9ae48b17-2691-493b-e37d-9818d97982a1"
      },
      "source": [
        "from sklearn.svm import SVC\n",
        "model=SVC()\n",
        "model.fit(x_train,y_train)\n",
        "y_pred=model.predict(x_test)\n",
        "y_pred"
      ],
      "execution_count": 17,
      "outputs": [
        {
          "output_type": "execute_result",
          "data": {
            "text/plain": [
              "array([0, 0, 0, 1, 0, 1, 1, 0, 1, 1, 1, 1, 1, 0, 1, 0, 0, 0])"
            ]
          },
          "metadata": {
            "tags": []
          },
          "execution_count": 17
        },
        {
          "output_type": "stream",
          "text": [
            "time: 430 ms (started: 2021-05-21 06:45:00 +00:00)\n"
          ],
          "name": "stdout"
        }
      ]
    },
    {
      "cell_type": "code",
      "metadata": {
        "colab": {
          "base_uri": "https://localhost:8080/"
        },
        "id": "YoR_JTeZ9cOd",
        "outputId": "042fce3e-9257-499c-c5a9-d9d42c1d3c73"
      },
      "source": [
        "y_test"
      ],
      "execution_count": 18,
      "outputs": [
        {
          "output_type": "execute_result",
          "data": {
            "text/plain": [
              "array([0, 0, 0, 1, 0, 0, 1, 0, 0, 1, 1, 1, 1, 0, 1, 0, 0, 0])"
            ]
          },
          "metadata": {
            "tags": []
          },
          "execution_count": 18
        },
        {
          "output_type": "stream",
          "text": [
            "time: 4.16 ms (started: 2021-05-21 06:45:00 +00:00)\n"
          ],
          "name": "stdout"
        }
      ]
    },
    {
      "cell_type": "code",
      "metadata": {
        "colab": {
          "base_uri": "https://localhost:8080/"
        },
        "id": "w2CYbxc59j4u",
        "outputId": "571d8978-7d3e-428e-ece5-46a7b6d0545e"
      },
      "source": [
        "from sklearn.metrics import accuracy_score,confusion_matrix,classification_report"
      ],
      "execution_count": 19,
      "outputs": [
        {
          "output_type": "stream",
          "text": [
            "time: 1.48 ms (started: 2021-05-21 06:45:00 +00:00)\n"
          ],
          "name": "stdout"
        }
      ]
    },
    {
      "cell_type": "code",
      "metadata": {
        "colab": {
          "base_uri": "https://localhost:8080/"
        },
        "id": "L9mfhmd29vQk",
        "outputId": "627b39ef-d2e6-4cfb-9055-2748eff76d42"
      },
      "source": [
        "confusion_matrix(y_pred,y_test)"
      ],
      "execution_count": 20,
      "outputs": [
        {
          "output_type": "execute_result",
          "data": {
            "text/plain": [
              "array([[9, 0],\n",
              "       [2, 7]])"
            ]
          },
          "metadata": {
            "tags": []
          },
          "execution_count": 20
        },
        {
          "output_type": "stream",
          "text": [
            "time: 11.4 ms (started: 2021-05-21 06:45:00 +00:00)\n"
          ],
          "name": "stdout"
        }
      ]
    },
    {
      "cell_type": "code",
      "metadata": {
        "colab": {
          "base_uri": "https://localhost:8080/"
        },
        "id": "ljpamhHf9zD3",
        "outputId": "09ceea85-88d5-48a1-a1b6-8f27ac45ab52"
      },
      "source": [
        "accuracy_score(y_pred,y_test)"
      ],
      "execution_count": 21,
      "outputs": [
        {
          "output_type": "execute_result",
          "data": {
            "text/plain": [
              "0.8888888888888888"
            ]
          },
          "metadata": {
            "tags": []
          },
          "execution_count": 21
        },
        {
          "output_type": "stream",
          "text": [
            "time: 15.9 ms (started: 2021-05-21 06:45:00 +00:00)\n"
          ],
          "name": "stdout"
        }
      ]
    },
    {
      "cell_type": "code",
      "metadata": {
        "colab": {
          "base_uri": "https://localhost:8080/"
        },
        "id": "75BeP6H8hoXg",
        "outputId": "826d61eb-7540-454e-9813-b51e4cfe91bd"
      },
      "source": [
        "from sklearn.model_selection import GridSearchCV\n",
        "from sklearn import svm\n",
        "param_grid=[\n",
        "            {'C':[0.1,1,10,100],'kernel':['linear','rbf']}\n",
        "]\n",
        "\n",
        "#svc=svm.SVC(probability=True)\n",
        "grid=GridSearchCV(SVC(),param_grid)\n",
        "grid.fit(x_train,y_train)\n"
      ],
      "execution_count": 22,
      "outputs": [
        {
          "output_type": "execute_result",
          "data": {
            "text/plain": [
              "GridSearchCV(cv=None, error_score=nan,\n",
              "             estimator=SVC(C=1.0, break_ties=False, cache_size=200,\n",
              "                           class_weight=None, coef0=0.0,\n",
              "                           decision_function_shape='ovr', degree=3,\n",
              "                           gamma='scale', kernel='rbf', max_iter=-1,\n",
              "                           probability=False, random_state=None, shrinking=True,\n",
              "                           tol=0.001, verbose=False),\n",
              "             iid='deprecated', n_jobs=None,\n",
              "             param_grid=[{'C': [0.1, 1, 10, 100], 'kernel': ['linear', 'rbf']}],\n",
              "             pre_dispatch='2*n_jobs', refit=True, return_train_score=False,\n",
              "             scoring=None, verbose=0)"
            ]
          },
          "metadata": {
            "tags": []
          },
          "execution_count": 22
        },
        {
          "output_type": "stream",
          "text": [
            "time: 7.68 s (started: 2021-05-21 06:45:00 +00:00)\n"
          ],
          "name": "stdout"
        }
      ]
    },
    {
      "cell_type": "code",
      "metadata": {
        "colab": {
          "base_uri": "https://localhost:8080/"
        },
        "id": "dPC29f-wj2-8",
        "outputId": "b5323779-5b49-43c6-c9e5-bb02fdabf6ff"
      },
      "source": [
        "grid.best_params_"
      ],
      "execution_count": 23,
      "outputs": [
        {
          "output_type": "execute_result",
          "data": {
            "text/plain": [
              "{'C': 1, 'kernel': 'rbf'}"
            ]
          },
          "metadata": {
            "tags": []
          },
          "execution_count": 23
        },
        {
          "output_type": "stream",
          "text": [
            "time: 4.07 ms (started: 2021-05-21 06:45:08 +00:00)\n"
          ],
          "name": "stdout"
        }
      ]
    },
    {
      "cell_type": "code",
      "metadata": {
        "colab": {
          "base_uri": "https://localhost:8080/"
        },
        "id": "FHI-4imBQQsq",
        "outputId": "71c87e9a-6790-4143-b7e3-26e4e53b94dd"
      },
      "source": [
        "from sklearn.svm import SVC\n",
        "from sklearn import svm\n",
        "model=svm.SVC(kernel='linear',C=0.1,gamma='auto',probability=True)\n",
        "model.fit(x_train,y_train)\n",
        "y_pred=model.predict(x_test)\n",
        "y_pred\n"
      ],
      "execution_count": 24,
      "outputs": [
        {
          "output_type": "execute_result",
          "data": {
            "text/plain": [
              "array([0, 0, 0, 1, 0, 0, 1, 0, 0, 1, 1, 1, 1, 0, 0, 0, 0, 0])"
            ]
          },
          "metadata": {
            "tags": []
          },
          "execution_count": 24
        },
        {
          "output_type": "stream",
          "text": [
            "time: 1.06 s (started: 2021-05-21 06:45:08 +00:00)\n"
          ],
          "name": "stdout"
        }
      ]
    },
    {
      "cell_type": "code",
      "metadata": {
        "colab": {
          "base_uri": "https://localhost:8080/"
        },
        "id": "wNzftKoJksGX",
        "outputId": "980d0c05-cae7-4c6b-c3c8-55a9b08c51a7"
      },
      "source": [
        "y_test"
      ],
      "execution_count": 25,
      "outputs": [
        {
          "output_type": "execute_result",
          "data": {
            "text/plain": [
              "array([0, 0, 0, 1, 0, 0, 1, 0, 0, 1, 1, 1, 1, 0, 1, 0, 0, 0])"
            ]
          },
          "metadata": {
            "tags": []
          },
          "execution_count": 25
        },
        {
          "output_type": "stream",
          "text": [
            "time: 5.79 ms (started: 2021-05-21 06:45:09 +00:00)\n"
          ],
          "name": "stdout"
        }
      ]
    },
    {
      "cell_type": "code",
      "metadata": {
        "colab": {
          "base_uri": "https://localhost:8080/"
        },
        "id": "FBvvxGaamDj1",
        "outputId": "323c0f6b-ef8a-4bb1-c745-ee156118f700"
      },
      "source": [
        "from sklearn.metrics import accuracy_score,confusion_matrix"
      ],
      "execution_count": 26,
      "outputs": [
        {
          "output_type": "stream",
          "text": [
            "time: 1.43 ms (started: 2021-05-21 06:45:09 +00:00)\n"
          ],
          "name": "stdout"
        }
      ]
    },
    {
      "cell_type": "code",
      "metadata": {
        "id": "EbvH7opFmN13",
        "colab": {
          "base_uri": "https://localhost:8080/"
        },
        "outputId": "0c383ace-24c2-4b92-b0e0-0a30a2b57e24"
      },
      "source": [
        "confusion_matrix(y_pred,y_test)"
      ],
      "execution_count": 27,
      "outputs": [
        {
          "output_type": "execute_result",
          "data": {
            "text/plain": [
              "array([[11,  1],\n",
              "       [ 0,  6]])"
            ]
          },
          "metadata": {
            "tags": []
          },
          "execution_count": 27
        },
        {
          "output_type": "stream",
          "text": [
            "time: 5.44 ms (started: 2021-05-21 06:45:09 +00:00)\n"
          ],
          "name": "stdout"
        }
      ]
    },
    {
      "cell_type": "code",
      "metadata": {
        "colab": {
          "base_uri": "https://localhost:8080/"
        },
        "id": "rRs6BwGt_hfV",
        "outputId": "13f1774f-1b92-414a-95ac-b28bbd66bb1e"
      },
      "source": [
        "accuracy_score(y_pred,y_test)"
      ],
      "execution_count": 28,
      "outputs": [
        {
          "output_type": "execute_result",
          "data": {
            "text/plain": [
              "0.9444444444444444"
            ]
          },
          "metadata": {
            "tags": []
          },
          "execution_count": 28
        },
        {
          "output_type": "stream",
          "text": [
            "time: 5.14 ms (started: 2021-05-21 06:45:09 +00:00)\n"
          ],
          "name": "stdout"
        }
      ]
    },
    {
      "cell_type": "code",
      "metadata": {
        "colab": {
          "base_uri": "https://localhost:8080/"
        },
        "id": "ANCc4QYF_rhR",
        "outputId": "ac9b97c6-fb2a-486c-83ed-707d2a99ff06"
      },
      "source": [
        "import pickle\n",
        "pickle.dump(grid,open('img_model.p','wb'))"
      ],
      "execution_count": 29,
      "outputs": [
        {
          "output_type": "stream",
          "text": [
            "time: 39.9 ms (started: 2021-05-21 06:45:09 +00:00)\n"
          ],
          "name": "stdout"
        }
      ]
    },
    {
      "cell_type": "code",
      "metadata": {
        "colab": {
          "base_uri": "https://localhost:8080/"
        },
        "id": "FmbinvtV_uL4",
        "outputId": "4cee01a3-3a37-4783-a9a7-642fe4acdcfa"
      },
      "source": [
        "model=pickle.load(open('img_model.p','rb'))"
      ],
      "execution_count": 30,
      "outputs": [
        {
          "output_type": "stream",
          "text": [
            "time: 33.8 ms (started: 2021-05-21 06:45:09 +00:00)\n"
          ],
          "name": "stdout"
        }
      ]
    },
    {
      "cell_type": "code",
      "metadata": {
        "colab": {
          "base_uri": "https://localhost:8080/",
          "height": 323
        },
        "id": "S-HXJwLmAAfi",
        "outputId": "377ad84d-6db5-4b75-f3ec-ea8e86dc4aaa"
      },
      "source": [
        "flat_data=[]\n",
        "url=input('Enter your URL')\n",
        "img=imread(url)\n",
        "img_resized=resize(img,(150,150,3))\n",
        "flat_data.append(img_resized.flatten())\n",
        "flat_data=np.array(flat_data)\n",
        "plt.imshow(img_resized)\n",
        "y_out=model.predict(flat_data)\n",
        "y_out=CATEGORIES[y_out[0]]\n",
        "print(f'PREDICTED OUTPUT:{y_out}')"
      ],
      "execution_count": 31,
      "outputs": [
        {
          "output_type": "stream",
          "text": [
            "Enter your URL/content/images/Macaws/Image_12.jpg\n",
            "PREDICTED OUTPUT:Macaws\n"
          ],
          "name": "stdout"
        },
        {
          "output_type": "display_data",
          "data": {
            "image/png": "[encoded data removed]",
            "text/plain": [
              "<Figure size 432x288 with 1 Axes>"
            ]
          },
          "metadata": {
            "tags": [],
            "needs_background": "light"
          }
        },
        {
          "output_type": "stream",
          "text": [
            "time: 4.19 s (started: 2021-05-21 06:45:09 +00:00)\n"
          ],
          "name": "stdout"
        }
      ]
    },
    {
      "cell_type": "code",
      "metadata": {
        "colab": {
          "base_uri": "https://localhost:8080/"
        },
        "id": "eXDkK1XWALGC",
        "outputId": "403e7883-97d8-43b2-b987-6f6027ab27a0"
      },
      "source": [
        "#/content/images/Dolphins/Image_1.jpg"
      ],
      "execution_count": 32,
      "outputs": [
        {
          "output_type": "stream",
          "text": [
            "time: 940 µs (started: 2021-05-21 06:45:13 +00:00)\n"
          ],
          "name": "stdout"
        }
      ]
    },
    {
      "cell_type": "code",
      "metadata": {
        "colab": {
          "base_uri": "https://localhost:8080/"
        },
        "id": "vxqikL8PCEo3",
        "outputId": "9c15901f-23b7-4386-bdc5-d622a8630e82"
      },
      "source": [
        "!pip install streamlit --quiet\n",
        "!pip install pyngrok==4.1.1 --quiet\n",
        "from pyngrok import ngrok\n"
      ],
      "execution_count": 33,
      "outputs": [
        {
          "output_type": "stream",
          "text": [
            "\u001b[K     |████████████████████████████████| 8.2MB 5.1MB/s \n",
            "\u001b[K     |████████████████████████████████| 174kB 24.4MB/s \n",
            "\u001b[K     |████████████████████████████████| 81kB 5.9MB/s \n",
            "\u001b[K     |████████████████████████████████| 92kB 7.3MB/s \n",
            "\u001b[K     |████████████████████████████████| 112kB 36.0MB/s \n",
            "\u001b[K     |████████████████████████████████| 4.2MB 29.6MB/s \n",
            "\u001b[K     |████████████████████████████████| 71kB 5.5MB/s \n",
            "\u001b[K     |████████████████████████████████| 122kB 19.2MB/s \n",
            "\u001b[?25h  Building wheel for blinker (setup.py) ... \u001b[?25l\u001b[?25hdone\n",
            "\u001b[31mERROR: google-colab 1.0.0 has requirement ipykernel~=4.10, but you'll have ipykernel 5.5.5 which is incompatible.\u001b[0m\n",
            "  Building wheel for pyngrok (setup.py) ... \u001b[?25l\u001b[?25hdone\n",
            "time: 19.9 s (started: 2021-05-21 06:45:13 +00:00)\n"
          ],
          "name": "stdout"
        }
      ]
    },
    {
      "cell_type": "code",
      "metadata": {
        "colab": {
          "base_uri": "https://localhost:8080/"
        },
        "id": "8sm0SUt_CH6r",
        "outputId": "f4fb6b75-6314-4af4-8978-0f10b56c583e"
      },
      "source": [
        "#Deployment\n",
        "%%writefile app.py\n",
        "import streamlit as st\n",
        "#import os\n",
        "#import matplotlib.pyplot as plt\n",
        "import numpy as np\n",
        "from skimage.io import imread\n",
        "from skimage.transform import resize\n",
        "import pickle\n",
        "from PIL import Image\n",
        "st.title('Image Classifier using Classifier')\n",
        "st.text('Upload the image')\n",
        "\n",
        "model=pickle.load(open('img_model.p','rb'))\n",
        "\n",
        "uploaded_file=st.file_uploader(\"choose an image...\",type=\"jpg\")\n",
        "if uploaded_file is not None:\n",
        "  img=Image.open(uploaded_file)\n",
        "  st.image(img,caption='Uploaded Image')\n",
        "\n",
        "  if st.button('PREDICT'):\n",
        "    CATEGORIES=['Dolphins','Macaws']\n",
        "    st.write('Result...')\n",
        "    flat_data=[]\n",
        "    img=np.array(img)\n",
        "    img_resized=resize(img,(150,150,3))\n",
        "    flat_data.append(img_resized.flatten())\n",
        "    flat_data=np.array(flat_data)\n",
        "    y_out=model.predict(flat_data)\n",
        "    y_out=CATEGORIES[y_out[0]]\n",
        "    st.title(f'PREDICTED OUTPUT:{y_out}')\n",
        "  q=model.predict_proba(flat_data)\n",
        "  for index,item in enumerate(CATEGORIES):\n",
        "    st.write(f'{item}:{q[0][index]*100}%')"
      ],
      "execution_count": 34,
      "outputs": [
        {
          "output_type": "stream",
          "text": [
            "Writing app.py\n",
            "time: 3.66 ms (started: 2021-05-21 06:45:33 +00:00)\n"
          ],
          "name": "stdout"
        }
      ]
    },
    {
      "cell_type": "code",
      "metadata": {
        "colab": {
          "base_uri": "https://localhost:8080/"
        },
        "id": "Uq3hMI5yCPss",
        "outputId": "3f4a212e-2b52-4530-804e-90979b1bfc20"
      },
      "source": [
        "!nohup streamlit run app.py &\n",
        "url=ngrok.connect(port='8501')\n",
        "print(url)"
      ],
      "execution_count": 35,
      "outputs": [
        {
          "output_type": "stream",
          "text": [
            "nohup: appending output to 'nohup.out'\n",
            "http://e792c8441925.ngrok.io\n",
            "time: 1.67 s (started: 2021-05-21 06:45:33 +00:00)\n"
          ],
          "name": "stdout"
        }
      ]
    },
    {
      "cell_type": "code",
      "metadata": {
        "colab": {
          "base_uri": "https://localhost:8080/"
        },
        "id": "t2NS41-WChKI",
        "outputId": "8d0850b9-53ec-4757-f96d-9b0f9210bc34"
      },
      "source": [
        "from xgboost import XGBClassifier\n",
        "model=XGBClassifier()\n",
        "model.fit(x_train,y_train)\n",
        "y_pred=model.predict(x_test)\n",
        "confusion_matrix(y_pred,y_test)\n",
        "accuracy_score(y_pred,y_test)"
      ],
      "execution_count": 36,
      "outputs": [
        {
          "output_type": "execute_result",
          "data": {
            "text/plain": [
              "0.7777777777777778"
            ]
          },
          "metadata": {
            "tags": []
          },
          "execution_count": 36
        },
        {
          "output_type": "stream",
          "text": [
            "time: 13.9 s (started: 2021-05-21 06:45:35 +00:00)\n"
          ],
          "name": "stdout"
        }
      ]
    },
    {
      "cell_type": "code",
      "metadata": {
        "id": "ixQVbgxsCzaK"
      },
      "source": [
        ""
      ],
      "execution_count": 36,
      "outputs": []
    }
  ]
}